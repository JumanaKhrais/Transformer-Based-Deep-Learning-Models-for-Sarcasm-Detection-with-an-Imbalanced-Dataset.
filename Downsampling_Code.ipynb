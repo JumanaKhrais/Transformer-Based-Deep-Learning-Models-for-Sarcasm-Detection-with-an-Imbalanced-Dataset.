{
  "nbformat": 4,
  "nbformat_minor": 0,
  "metadata": {
    "colab": {
      "name": "Downsampling-Code.ipynb",
      "provenance": [],
      "authorship_tag": "ABX9TyPSCnhErRJYDy4iT2aJjdI6",
      "include_colab_link": true
    },
    "kernelspec": {
      "name": "python3",
      "display_name": "Python 3"
    },
    "language_info": {
      "name": "python"
    }
  },
  "cells": [
    {
      "cell_type": "markdown",
      "metadata": {
        "id": "view-in-github",
        "colab_type": "text"
      },
      "source": [
        "<a href=\"https://colab.research.google.com/github/JumanaKhrais/Transformer-Based-Deep-Learning-Models-for-Sarcasm-Detection-with-an-Imbalanced-Dataset./blob/main/Downsampling_Code.ipynb\" target=\"_parent\"><img src=\"https://colab.research.google.com/assets/colab-badge.svg\" alt=\"Open In Colab\"/></a>"
      ]
    },
    {
      "cell_type": "markdown",
      "source": [
        "**Mounting Drive**"
      ],
      "metadata": {
        "id": "0svC0fzbZOFm"
      }
    },
    {
      "cell_type": "code",
      "execution_count": 1,
      "metadata": {
        "colab": {
          "base_uri": "https://localhost:8080/"
        },
        "id": "XR67CQgaYSgt",
        "outputId": "f3fe27fb-fba8-4a77-eec9-3d539c6bac96"
      },
      "outputs": [
        {
          "output_type": "stream",
          "name": "stdout",
          "text": [
            "Mounted at /content/drive\n"
          ]
        }
      ],
      "source": [
        "from google.colab import drive\n",
        "\n",
        "drive.mount('/content/drive') #this line to have the ability to read from and load to drive\n"
      ]
    },
    {
      "cell_type": "code",
      "source": [
        "! pip install transformers"
      ],
      "metadata": {
        "id": "JR2vgSMrYc6G"
      },
      "execution_count": null,
      "outputs": []
    },
    {
      "cell_type": "markdown",
      "source": [
        "**Importing Libraries**"
      ],
      "metadata": {
        "id": "VQgiKy2JZU73"
      }
    },
    {
      "cell_type": "code",
      "source": [
        "import numpy as np\n",
        "import pandas as pd\n",
        "from sklearn.model_selection import train_test_split\n",
        "from sklearn.metrics import accuracy_score, recall_score, precision_score, f1_score\n",
        "import torch\n",
        "from transformers import TrainingArguments, Trainer\n",
        "from transformers import BertTokenizer, BertForSequenceClassification\n",
        "from transformers import EarlyStoppingCallback\n",
        "from transformers import AutoModelForSequenceClassification, AutoTokenizer \n",
        "import seaborn as sns\n",
        "import matplotlib.pyplot as plt"
      ],
      "metadata": {
        "id": "TSle7lsjY2hV"
      },
      "execution_count": 3,
      "outputs": []
    },
    {
      "cell_type": "markdown",
      "source": [
        "**Reading Dataset + Handling Null Values**\n"
      ],
      "metadata": {
        "id": "9BkAXZYDZdD0"
      }
    },
    {
      "cell_type": "code",
      "source": [
        "# Reading the dataset\n",
        "pathT = \"drive/MyDrive/TrainEnglish.csv\"\n",
        "train = pd.read_csv(pathT) "
      ],
      "metadata": {
        "id": "wZxFe9jIZZz0"
      },
      "execution_count": 4,
      "outputs": []
    },
    {
      "cell_type": "code",
      "source": [
        "data = train[['tweet', 'sarcastic']].copy()\n"
      ],
      "metadata": {
        "id": "iTEAVRKvZiYM"
      },
      "execution_count": 5,
      "outputs": []
    },
    {
      "cell_type": "code",
      "source": [
        "data.dropna(axis=0, how=\"any\", thresh=None, subset=None, inplace=True)"
      ],
      "metadata": {
        "id": "2VFJLt74ZkoM"
      },
      "execution_count": 6,
      "outputs": []
    },
    {
      "cell_type": "code",
      "source": [
        "import seaborn as sns\n",
        "import matplotlib.pyplot as plt\n",
        " \n",
        "data = data\n",
        "sns.set_context('poster', font_scale = 1)\n",
        "sns.countplot(x ='sarcastic', data = data, palette ='coolwarm')"
      ],
      "metadata": {
        "colab": {
          "base_uri": "https://localhost:8080/",
          "height": 329
        },
        "id": "8GHd3pYjZmpE",
        "outputId": "c9747d05-4a78-4d86-a408-e4940730c1ce"
      },
      "execution_count": 7,
      "outputs": [
        {
          "output_type": "execute_result",
          "data": {
            "text/plain": [
              "<matplotlib.axes._subplots.AxesSubplot at 0x7f89c5656150>"
            ]
          },
          "metadata": {},
          "execution_count": 7
        },
        {
          "output_type": "display_data",
          "data": {
            "text/plain": [
              "<Figure size 432x288 with 1 Axes>"
            ],
            "image/png": "[encoded data removed]"
          },
          "metadata": {
            "needs_background": "light"
          }
        }
      ]
    },
    {
      "cell_type": "code",
      "source": [
        "data['sarcastic'].value_counts()"
      ],
      "metadata": {
        "colab": {
          "base_uri": "https://localhost:8080/"
        },
        "id": "314G5Rf6Zqcb",
        "outputId": "c6f930ef-b258-4f2d-b49e-3aafe0565732"
      },
      "execution_count": 8,
      "outputs": [
        {
          "output_type": "execute_result",
          "data": {
            "text/plain": [
              "0    2600\n",
              "1     867\n",
              "Name: sarcastic, dtype: int64"
            ]
          },
          "metadata": {},
          "execution_count": 8
        }
      ]
    },
    {
      "cell_type": "markdown",
      "source": [
        "**Downsampling the Dataset**"
      ],
      "metadata": {
        "id": "F96SeKRFariP"
      }
    },
    {
      "cell_type": "code",
      "source": [
        "ones = data.loc[data['sarcastic'] == 1, :]\n",
        "numberOf1s = len(ones)\n",
        "print(numberOf1s)"
      ],
      "metadata": {
        "colab": {
          "base_uri": "https://localhost:8080/"
        },
        "id": "cPDIayv3ZvFj",
        "outputId": "c6ba1a97-d772-44b7-d4da-301784f7c18e"
      },
      "execution_count": 9,
      "outputs": [
        {
          "output_type": "stream",
          "name": "stdout",
          "text": [
            "867\n"
          ]
        }
      ]
    },
    {
      "cell_type": "code",
      "source": [
        "zeros = data.loc[data['sarcastic'] == 0, :]\n",
        "sampled_zeros = zeros.sample(numberOf1s)\n",
        "\n",
        "print(len(sampled_zeros))"
      ],
      "metadata": {
        "colab": {
          "base_uri": "https://localhost:8080/"
        },
        "id": "ejQVRJNjZxiT",
        "outputId": "dc44d201-a8b3-4d3a-dd4a-39821eb051c6"
      },
      "execution_count": 10,
      "outputs": [
        {
          "output_type": "stream",
          "name": "stdout",
          "text": [
            "867\n"
          ]
        }
      ]
    },
    {
      "cell_type": "code",
      "source": [
        "Baldata = pd.concat([ones, sampled_zeros], ignore_index=True)\n",
        "\n",
        "print(Baldata.shape)"
      ],
      "metadata": {
        "colab": {
          "base_uri": "https://localhost:8080/"
        },
        "id": "JfAnqPM1Z0si",
        "outputId": "8595dbb9-b774-44fc-d798-bc0ea2a1d5a8"
      },
      "execution_count": 11,
      "outputs": [
        {
          "output_type": "stream",
          "name": "stdout",
          "text": [
            "(1734, 2)\n"
          ]
        }
      ]
    },
    {
      "cell_type": "code",
      "source": [
        "Baldata['sarcastic'].value_counts()"
      ],
      "metadata": {
        "colab": {
          "base_uri": "https://localhost:8080/"
        },
        "id": "ybyXlBcjZ4Oq",
        "outputId": "f2ff3daa-a9dc-44c2-fb35-ef866fd67866"
      },
      "execution_count": 12,
      "outputs": [
        {
          "output_type": "execute_result",
          "data": {
            "text/plain": [
              "1    867\n",
              "0    867\n",
              "Name: sarcastic, dtype: int64"
            ]
          },
          "metadata": {},
          "execution_count": 12
        }
      ]
    },
    {
      "cell_type": "code",
      "source": [
        "import seaborn as sns\n",
        "import matplotlib.pyplot as plt\n",
        " \n",
        "data = Baldata\n",
        "sns.set_context('poster', font_scale = 1)\n",
        "sns.countplot(x ='sarcastic', data = data, palette ='coolwarm')"
      ],
      "metadata": {
        "colab": {
          "base_uri": "https://localhost:8080/",
          "height": 329
        },
        "id": "Nd_SqGNkaIZp",
        "outputId": "524a7114-9db2-4dac-f34d-6ed038a1d665"
      },
      "execution_count": 13,
      "outputs": [
        {
          "output_type": "execute_result",
          "data": {
            "text/plain": [
              "<matplotlib.axes._subplots.AxesSubplot at 0x7f89c551fb10>"
            ]
          },
          "metadata": {},
          "execution_count": 13
        },
        {
          "output_type": "display_data",
          "data": {
            "text/plain": [
              "<Figure size 432x288 with 1 Axes>"
            ],
            "image/png": "[encoded data removed]"
          },
          "metadata": {
            "needs_background": "light"
          }
        }
      ]
    },
    {
      "cell_type": "code",
      "source": [
        "train, valid  = train_test_split(Baldata, test_size=0.15, shuffle = True , random_state= 42)\n",
        "train= pd.DataFrame(train)\n",
        "valid = pd.DataFrame(valid)\n",
        "train.to_csv(\"drive/MyDrive/trainBal.csv\", index= False) \n",
        "valid.to_csv(\"drive/MyDrive/validBal.csv\", index = False) \n"
      ],
      "metadata": {
        "id": "z8FlWNK8a7cO"
      },
      "execution_count": null,
      "outputs": []
    }
  ]
}