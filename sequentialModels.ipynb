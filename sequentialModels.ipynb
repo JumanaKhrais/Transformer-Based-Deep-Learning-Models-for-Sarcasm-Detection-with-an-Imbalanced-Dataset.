{
  "nbformat": 4,
  "nbformat_minor": 0,
  "metadata": {
    "colab": {
      "name": "sequentialModels.ipynb",
      "provenance": [],
      "collapsed_sections": [],
      "machine_shape": "hm",
      "include_colab_link": true
    },
    "kernelspec": {
      "name": "python3",
      "display_name": "Python 3"
    },
    "language_info": {
      "name": "python"
    },
    "accelerator": "GPU"
  },
  "cells": [
    {
      "cell_type": "markdown",
      "metadata": {
        "id": "view-in-github",
        "colab_type": "text"
      },
      "source": [
        "<a href=\"https://colab.research.google.com/github/JumanaKhrais/Transformer-Based-Deep-Learning-Models-for-Sarcasm-Detection-with-an-Imbalanced-Dataset./blob/main/sequentialModels.ipynb\" target=\"_parent\"><img src=\"https://colab.research.google.com/assets/colab-badge.svg\" alt=\"Open In Colab\"/></a>"
      ]
    },
    {
      "cell_type": "markdown",
      "source": [
        "**Deep learning models**\n",
        " \n",
        "*  LSTM\n",
        "*  BiLSTM\n",
        "*  BiGRU\n"
      ],
      "metadata": {
        "id": "ljNfZOCW9WSd"
      }
    },
    {
      "cell_type": "markdown",
      "metadata": {
        "id": "zumfncg8TGGs"
      },
      "source": [
        "#Importing Libraries"
      ]
    },
    {
      "cell_type": "code",
      "metadata": {
        "id": "vL24S96vVBQM"
      },
      "source": [
        "import numpy as np\n",
        "import pandas as pd\n",
        "import matplotlib.pyplot as plt\n",
        "import re\n",
        "import string\n",
        "from sklearn.model_selection import train_test_split\n",
        "from sklearn.feature_extraction.text import CountVectorizer\n",
        "from sklearn.metrics import confusion_matrix\n",
        "from mlxtend.plotting import plot_confusion_matrix\n",
        "import seaborn as sns\n",
        "from sklearn.metrics import accuracy_score\n",
        "from sklearn.metrics import classification_report\n",
        "from sklearn.metrics import f1_score\n",
        "from sklearn.metrics import recall_score\n",
        "from tensorflow.keras.models import Sequential\n",
        "from tensorflow.keras.preprocessing.text import one_hot\n",
        "from tensorflow.keras.optimizers import Adam\n",
        "from tensorflow.keras.layers import Embedding, LSTM, Dense, Dropout, GlobalMaxPooling1D,Flatten,Bidirectional,GRU, Conv1D,SpatialDropout1D,MaxPooling1D\n",
        "from tensorflow.keras.preprocessing.text import Tokenizer\n",
        "from tensorflow.keras.preprocessing.sequence import pad_sequences\n",
        "from tensorflow.keras.callbacks import ModelCheckpoint, EarlyStopping\n",
        "from sklearn import metrics \n"
      ],
      "execution_count": null,
      "outputs": []
    },
    {
      "cell_type": "markdown",
      "source": [
        "**Mounting Drive**"
      ],
      "metadata": {
        "id": "OoE3IaCycKNS"
      }
    },
    {
      "cell_type": "code",
      "metadata": {
        "colab": {
          "base_uri": "https://localhost:8080/"
        },
        "id": "hHMUMnh-VoTj",
        "outputId": "c699d9a1-ce98-4509-a97e-4d96840b0bf8"
      },
      "source": [
        "from google.colab import drive\n",
        "drive.mount('/content/drive') #this line to have the ability to read from and load to drive\n"
      ],
      "execution_count": null,
      "outputs": [
        {
          "output_type": "stream",
          "name": "stdout",
          "text": [
            "Drive already mounted at /content/drive; to attempt to forcibly remount, call drive.mount(\"/content/drive\", force_remount=True).\n"
          ]
        }
      ]
    },
    {
      "cell_type": "markdown",
      "source": [
        "**Reading Dataset + Handling Null Values**\n"
      ],
      "metadata": {
        "id": "usom-HRQcNux"
      }
    },
    {
      "cell_type": "code",
      "source": [
        "# Reading the dataset\n",
        "pathT = \"drive/MyDrive/TrainEnglish.csv\"\n",
        "train  = pd.read_csv(pathT)"
      ],
      "metadata": {
        "id": "xVylFiv6kAFn"
      },
      "execution_count": null,
      "outputs": []
    },
    {
      "cell_type": "code",
      "source": [
        "data = train[['tweet', 'sarcastic']].copy()\n"
      ],
      "metadata": {
        "id": "G8B1OlwzkFWx"
      },
      "execution_count": null,
      "outputs": []
    },
    {
      "cell_type": "code",
      "source": [
        "data.dropna(axis=0, how=\"any\", thresh=None, subset=None, inplace=True)"
      ],
      "metadata": {
        "id": "4pNWX4z9lPmR"
      },
      "execution_count": null,
      "outputs": []
    },
    {
      "cell_type": "code",
      "source": [
        "tweets = data['tweet']\n",
        "lables = data['sarcastic']"
      ],
      "metadata": {
        "id": "xCdyXz_9lYbD"
      },
      "execution_count": null,
      "outputs": []
    },
    {
      "cell_type": "markdown",
      "metadata": {
        "id": "JjFMou1_TQb6"
      },
      "source": [
        "#Data Analysis and preprocessing"
      ]
    },
    {
      "cell_type": "markdown",
      "metadata": {
        "id": "aKQE5m9qgEz5"
      },
      "source": [
        "**The data is Imbalanced**"
      ]
    },
    {
      "cell_type": "code",
      "metadata": {
        "colab": {
          "base_uri": "https://localhost:8080/",
          "height": 427
        },
        "id": "ezx4TKq2V76i",
        "outputId": "55e17112-3a8b-4ee7-928a-29e4dcc65624"
      },
      "source": [
        "sns.countplot(data['sarcastic'])\n",
        "plt.title('Class Distribution')\n",
        "plt.xlabel('Class')\n",
        "plt.ylabel('# of Training Examples')\n",
        "plt.show()"
      ],
      "execution_count": null,
      "outputs": [
        {
          "output_type": "stream",
          "name": "stderr",
          "text": [
            "/usr/local/lib/python3.7/dist-packages/seaborn/_decorators.py:43: FutureWarning: Pass the following variable as a keyword arg: x. From version 0.12, the only valid positional argument will be `data`, and passing other arguments without an explicit keyword will result in an error or misinterpretation.\n",
            "  FutureWarning\n"
          ]
        },
        {
          "output_type": "display_data",
          "data": {
            "image/png": "[encoded data removed]",
            "text/plain": [
              "<Figure size 720x360 with 1 Axes>"
            ]
          },
          "metadata": {}
        }
      ]
    },
    {
      "cell_type": "code",
      "source": [
        "# Data is imbalanced"
      ],
      "metadata": {
        "id": "HjkMzKQWzNKR"
      },
      "execution_count": null,
      "outputs": []
    },
    {
      "cell_type": "markdown",
      "metadata": {
        "id": "ZfdLQRWbgQpd"
      },
      "source": [
        "**Checking sequences lengths distribution**"
      ]
    },
    {
      "cell_type": "code",
      "metadata": {
        "id": "PSHCM1N_XqjZ"
      },
      "source": [
        "lengths = []\n",
        "from tensorflow.keras.preprocessing.text import text_to_word_sequence\n",
        "for ex in tweets:\n",
        "    tokens = text_to_word_sequence(ex,split=' ')\n",
        "    lengths.append(len(tokens))"
      ],
      "execution_count": null,
      "outputs": []
    },
    {
      "cell_type": "code",
      "metadata": {
        "colab": {
          "base_uri": "https://localhost:8080/"
        },
        "id": "hnu5OERLYEJF",
        "outputId": "1beced01-37d7-421c-999f-fae46a42245e"
      },
      "source": [
        "print('   Min length: {:,} '.format(min(lengths)))\n",
        "print('   Max length: {:,} '.format(max(lengths)))\n",
        "print('Median length: {:,} '.format(int(np.median(lengths))))"
      ],
      "execution_count": null,
      "outputs": [
        {
          "output_type": "stream",
          "name": "stdout",
          "text": [
            "   Min length: 1 \n",
            "   Max length: 63 \n",
            "Median length: 17 \n"
          ]
        }
      ]
    },
    {
      "cell_type": "code",
      "metadata": {
        "colab": {
          "base_uri": "https://localhost:8080/",
          "height": 427
        },
        "id": "lPMRZ-IuWvJ7",
        "outputId": "976f76f7-ae02-4a74-a96e-41e32c5d2099"
      },
      "source": [
        "sns.set(style='darkgrid')\n",
        "sns.set(font_scale=1.5)\n",
        "plt.rcParams[\"figure.figsize\"] = (10,5)\n",
        "sns.distplot(lengths, kde=False, rug=False)\n",
        "plt.title('Distribution of Sequence Lengths')\n",
        "plt.xlabel('Sequence Length')\n",
        "plt.ylabel('# of Samples')\n",
        "plt.show()"
      ],
      "execution_count": null,
      "outputs": [
        {
          "output_type": "stream",
          "name": "stderr",
          "text": [
            "/usr/local/lib/python3.7/dist-packages/seaborn/distributions.py:2619: FutureWarning: `distplot` is a deprecated function and will be removed in a future version. Please adapt your code to use either `displot` (a figure-level function with similar flexibility) or `histplot` (an axes-level function for histograms).\n",
            "  warnings.warn(msg, FutureWarning)\n"
          ]
        },
        {
          "output_type": "display_data",
          "data": {
            "image/png": "[encoded data removed]",
            "text/plain": [
              "<Figure size 720x360 with 1 Axes>"
            ]
          },
          "metadata": {}
        }
      ]
    },
    {
      "cell_type": "markdown",
      "source": [
        "**Reading Validation, Training, and Testing Datasets**"
      ],
      "metadata": {
        "id": "dCiqYDbvdac6"
      }
    },
    {
      "cell_type": "code",
      "source": [
        "pathT = \"drive/MyDrive/train.csv\"\n",
        "trainD  = pd.read_csv(pathT)"
      ],
      "metadata": {
        "id": "MMPreVizdEnS"
      },
      "execution_count": null,
      "outputs": []
    },
    {
      "cell_type": "code",
      "source": [
        "train = trainD['tweet']\n",
        "trainL = trainD['sarcastic']"
      ],
      "metadata": {
        "id": "OJGAI3PuiF73"
      },
      "execution_count": null,
      "outputs": []
    },
    {
      "cell_type": "code",
      "source": [
        "pathT = \"drive/MyDrive/valid.csv\"\n",
        "validD = pd.read_csv(pathT)"
      ],
      "metadata": {
        "id": "bVUhXzMFdddH"
      },
      "execution_count": null,
      "outputs": []
    },
    {
      "cell_type": "code",
      "source": [
        "valid = validD['tweet']\n",
        "validL = validD['sarcastic']"
      ],
      "metadata": {
        "id": "LtrgpXByidJf"
      },
      "execution_count": null,
      "outputs": []
    },
    {
      "cell_type": "code",
      "source": [
        "testD= pd.read_csv(\"drive/MyDrive/TestEnglish.csv\")"
      ],
      "metadata": {
        "id": "UOH0-wCAd5Ez"
      },
      "execution_count": null,
      "outputs": []
    },
    {
      "cell_type": "code",
      "source": [
        "test = testD['text']\n",
        "testL = testD['sarcastic']"
      ],
      "metadata": {
        "id": "y_cRcLM_ij1P"
      },
      "execution_count": null,
      "outputs": []
    },
    {
      "cell_type": "code",
      "source": [
        "train.shape"
      ],
      "metadata": {
        "colab": {
          "base_uri": "https://localhost:8080/"
        },
        "id": "8m_5DcGfdfZh",
        "outputId": "c32a6fc5-0fd4-4bbe-ee7b-b8ecfe1822db"
      },
      "execution_count": null,
      "outputs": [
        {
          "output_type": "execute_result",
          "data": {
            "text/plain": [
              "(2946,)"
            ]
          },
          "metadata": {},
          "execution_count": 81
        }
      ]
    },
    {
      "cell_type": "code",
      "source": [
        "valid.shape"
      ],
      "metadata": {
        "colab": {
          "base_uri": "https://localhost:8080/"
        },
        "id": "TOifiUfSdhgT",
        "outputId": "8bb7d8b6-65e8-4451-c8e2-bcfc3425dde2"
      },
      "execution_count": null,
      "outputs": [
        {
          "output_type": "execute_result",
          "data": {
            "text/plain": [
              "(521,)"
            ]
          },
          "metadata": {},
          "execution_count": 82
        }
      ]
    },
    {
      "cell_type": "code",
      "source": [
        "test.shape"
      ],
      "metadata": {
        "colab": {
          "base_uri": "https://localhost:8080/"
        },
        "id": "zu_zNr6yeELN",
        "outputId": "1164068b-15f6-4b53-df9d-9dc4b51dd2bb"
      },
      "execution_count": null,
      "outputs": [
        {
          "output_type": "execute_result",
          "data": {
            "text/plain": [
              "(1400,)"
            ]
          },
          "metadata": {},
          "execution_count": 83
        }
      ]
    },
    {
      "cell_type": "markdown",
      "metadata": {
        "id": "X-AZVPYkrv5H"
      },
      "source": [
        "#Tokenization"
      ]
    },
    {
      "cell_type": "code",
      "metadata": {
        "id": "DABgzA0tryvf"
      },
      "source": [
        "maxlength = 67 #Based on the results above max length is choosen \n",
        "embeddingDim = 32 \n",
        "vocabSize = 20000\n",
        "truncating_type = 'post'\n",
        "padding_type='post'\n",
        "#Defining tokenizer\n",
        "tokenizer = Tokenizer(num_words=vocabSize)\n",
        "tokenizer.fit_on_texts(train) #Updates internal vocabulary based on a list of texts\n",
        "#tokenizing data\n",
        "Tokens_train = tokenizer.texts_to_sequences(train)\n",
        "Tokens_test = tokenizer.texts_to_sequences(test) #transforms each text in texts to a sequence of integers\n",
        "Tokens_validation = tokenizer.texts_to_sequences(valid)\n",
        "#padding data into maximum length \n",
        "Tokens_train = pad_sequences(Tokens_train,  maxlen=maxlength,padding=padding_type,truncating=truncating_type)\n",
        "Tokens_test = pad_sequences(Tokens_test, maxlen=maxlength,padding=padding_type,truncating=truncating_type)\n",
        "Tokens_validation = pad_sequences(Tokens_validation, maxlen=maxlength,padding=padding_type,truncating=truncating_type)"
      ],
      "execution_count": null,
      "outputs": []
    },
    {
      "cell_type": "markdown",
      "metadata": {
        "id": "_0Zod6wf7P7K"
      },
      "source": [
        "# 1.LSTM model"
      ]
    },
    {
      "cell_type": "code",
      "metadata": {
        "id": "PhHA-8ql7N3c"
      },
      "source": [
        "#hyperparameter finetuning\n",
        "dropout_rate = 0.5\n",
        "lstmunits = 32\n",
        "nepochs= 12\n",
        "batchSize= 24"
      ],
      "execution_count": null,
      "outputs": []
    },
    {
      "cell_type": "markdown",
      "metadata": {
        "id": "Tb2ur3C6hdwF"
      },
      "source": [
        "**Defining the model**"
      ]
    },
    {
      "cell_type": "code",
      "metadata": {
        "colab": {
          "base_uri": "https://localhost:8080/"
        },
        "id": "XvvMmydC7N3k",
        "outputId": "50341c3e-665c-4518-a453-440fed71d759"
      },
      "source": [
        "lstm = Sequential()\n",
        "lstm.add(Embedding(vocabSize, embeddingDim, input_length=maxlength)) \n",
        "lstm.add(LSTM(lstmunits))\n",
        "lstm.add(Dropout(dropout_rate))\n",
        "lstm.add(Dense(8,activation=\"relu\"))\n",
        "lstm.add(Dense(1, activation='sigmoid'))\n",
        "lstm.summary()\n",
        "#dr.malak : add more layer before the dense .."
      ],
      "execution_count": null,
      "outputs": [
        {
          "output_type": "stream",
          "name": "stdout",
          "text": [
            "Model: \"sequential_4\"\n",
            "_________________________________________________________________\n",
            " Layer (type)                Output Shape              Param #   \n",
            "=================================================================\n",
            " embedding_4 (Embedding)     (None, 67, 32)            640000    \n",
            "                                                                 \n",
            " lstm_3 (LSTM)               (None, 32)                8320      \n",
            "                                                                 \n",
            " dropout_4 (Dropout)         (None, 32)                0         \n",
            "                                                                 \n",
            " dense_6 (Dense)             (None, 8)                 264       \n",
            "                                                                 \n",
            " dense_7 (Dense)             (None, 1)                 9         \n",
            "                                                                 \n",
            "=================================================================\n",
            "Total params: 648,593\n",
            "Trainable params: 648,593\n",
            "Non-trainable params: 0\n",
            "_________________________________________________________________\n"
          ]
        }
      ]
    },
    {
      "cell_type": "markdown",
      "metadata": {
        "id": "VwKY7o1UhhTq"
      },
      "source": [
        "**Defining callbacks**"
      ]
    },
    {
      "cell_type": "code",
      "metadata": {
        "id": "NvCV4bao7N3l"
      },
      "source": [
        "callbacks = [EarlyStopping(monitor='val_accuracy',min_delta=1e-4,patience=6,verbose=1),\n",
        "             ModelCheckpoint(filepath='lstm_weights.h5',monitor='val_accuracy', mode='max', save_best_only=True,save_weights_only=True,verbose=1)]"
      ],
      "execution_count": null,
      "outputs": []
    },
    {
      "cell_type": "markdown",
      "metadata": {
        "id": "YnJu4Hj6hoJ9"
      },
      "source": [
        "**Compile and train**"
      ]
    },
    {
      "cell_type": "code",
      "metadata": {
        "id": "QS850IrKhtlt"
      },
      "source": [
        "lstm.compile(loss='binary_crossentropy', optimizer=Adam(learning_rate=0.001), metrics=['accuracy'])"
      ],
      "execution_count": null,
      "outputs": []
    },
    {
      "cell_type": "code",
      "metadata": {
        "colab": {
          "base_uri": "https://localhost:8080/"
        },
        "id": "_xpCLkbB7N3l",
        "outputId": "665dedfd-2cb6-4819-d4cf-d81b7bb03cb5"
      },
      "source": [
        "historylstm = lstm.fit(Tokens_train, trainL, batch_size=batchSize, validation_data=(Tokens_validation , validL), epochs=nepochs, callbacks=callbacks)"
      ],
      "execution_count": null,
      "outputs": [
        {
          "output_type": "stream",
          "name": "stdout",
          "text": [
            "Epoch 1/12\n",
            "120/123 [============================>.] - ETA: 0s - loss: 0.5837 - accuracy: 0.7583\n",
            "Epoch 1: val_accuracy improved from -inf to 0.69866, saving model to lstm_weights.h5\n",
            "123/123 [==============================] - 3s 11ms/step - loss: 0.5846 - accuracy: 0.7570 - val_loss: 0.6178 - val_accuracy: 0.6987\n",
            "Epoch 2/12\n",
            "122/123 [============================>.] - ETA: 0s - loss: 0.5595 - accuracy: 0.7596\n",
            "Epoch 2: val_accuracy did not improve from 0.69866\n",
            "123/123 [==============================] - 1s 7ms/step - loss: 0.5597 - accuracy: 0.7590 - val_loss: 0.6157 - val_accuracy: 0.6987\n",
            "Epoch 3/12\n",
            "123/123 [==============================] - ETA: 0s - loss: 0.5601 - accuracy: 0.7590\n",
            "Epoch 3: val_accuracy did not improve from 0.69866\n",
            "123/123 [==============================] - 1s 7ms/step - loss: 0.5601 - accuracy: 0.7590 - val_loss: 0.6183 - val_accuracy: 0.6987\n",
            "Epoch 4/12\n",
            "115/123 [===========================>..] - ETA: 0s - loss: 0.5583 - accuracy: 0.7569\n",
            "Epoch 4: val_accuracy did not improve from 0.69866\n",
            "123/123 [==============================] - 1s 7ms/step - loss: 0.5557 - accuracy: 0.7590 - val_loss: 0.6350 - val_accuracy: 0.6987\n",
            "Epoch 5/12\n",
            "122/123 [============================>.] - ETA: 0s - loss: 0.5564 - accuracy: 0.7585\n",
            "Epoch 5: val_accuracy did not improve from 0.69866\n",
            "123/123 [==============================] - 1s 7ms/step - loss: 0.5559 - accuracy: 0.7590 - val_loss: 0.6148 - val_accuracy: 0.6987\n",
            "Epoch 6/12\n",
            "117/123 [===========================>..] - ETA: 0s - loss: 0.5547 - accuracy: 0.7614\n",
            "Epoch 6: val_accuracy did not improve from 0.69866\n",
            "123/123 [==============================] - 1s 7ms/step - loss: 0.5576 - accuracy: 0.7590 - val_loss: 0.6200 - val_accuracy: 0.6987\n",
            "Epoch 7/12\n",
            "123/123 [==============================] - ETA: 0s - loss: 0.5568 - accuracy: 0.7590\n",
            "Epoch 7: val_accuracy did not improve from 0.69866\n",
            "123/123 [==============================] - 1s 7ms/step - loss: 0.5568 - accuracy: 0.7590 - val_loss: 0.6252 - val_accuracy: 0.6987\n",
            "Epoch 7: early stopping\n"
          ]
        }
      ]
    },
    {
      "cell_type": "code",
      "metadata": {
        "id": "e5gwHcHk7N3l"
      },
      "source": [
        "lstm.load_weights('lstm_weights.h5')\n",
        "lstm.save('lstm')"
      ],
      "execution_count": null,
      "outputs": []
    },
    {
      "cell_type": "markdown",
      "metadata": {
        "id": "ezWuPp38iHK1"
      },
      "source": [
        "**Testing**"
      ]
    },
    {
      "cell_type": "code",
      "metadata": {
        "id": "IvS7bA_17N3m"
      },
      "source": [
        "lstmpreds = [round(i[0]) for i in lstm.predict(Tokens_test)]"
      ],
      "execution_count": null,
      "outputs": []
    },
    {
      "cell_type": "code",
      "source": [
        "from sklearn import metrics \n",
        "print(metrics.accuracy_score(testL, lstmpreds))\n",
        "print(metrics.precision_score(testL, lstmpreds))\n",
        "print(metrics.recall_score(testL,lstmpreds))\n",
        "print(metrics.f1_score(testL,lstmpreds)) "
      ],
      "metadata": {
        "colab": {
          "base_uri": "https://localhost:8080/"
        },
        "id": "-xHlY51DjY6Q",
        "outputId": "64bfe35a-28a8-4b12-8999-471bbc7faddb"
      },
      "execution_count": null,
      "outputs": [
        {
          "output_type": "stream",
          "name": "stdout",
          "text": [
            "0.8571428571428571\n",
            "0.0\n",
            "0.0\n",
            "0.0\n"
          ]
        },
        {
          "output_type": "stream",
          "name": "stderr",
          "text": [
            "/usr/local/lib/python3.7/dist-packages/sklearn/metrics/_classification.py:1318: UndefinedMetricWarning: Precision is ill-defined and being set to 0.0 due to no predicted samples. Use `zero_division` parameter to control this behavior.\n",
            "  _warn_prf(average, modifier, msg_start, len(result))\n"
          ]
        }
      ]
    },
    {
      "cell_type": "markdown",
      "metadata": {
        "id": "bGrAhpEfFCVS"
      },
      "source": [
        "# 2.BiLSTM model"
      ]
    },
    {
      "cell_type": "code",
      "metadata": {
        "id": "zNjMHTPMFCVT"
      },
      "source": [
        "#hyperparameter finetuning\n",
        "dropout_rate = 0.2\n",
        "lstmunits = 64\n",
        "nepochs= 40\n",
        "batchSize=512"
      ],
      "execution_count": null,
      "outputs": []
    },
    {
      "cell_type": "markdown",
      "metadata": {
        "id": "cq1nUfGciope"
      },
      "source": [
        "**Defining The model**"
      ]
    },
    {
      "cell_type": "code",
      "metadata": {
        "id": "t7PFGrjhFCVU"
      },
      "source": [
        "Bilstm = Sequential()\n",
        "Bilstm.add(Embedding(vocabSize, embeddingDim, input_length=maxlength)) \n",
        "Bilstm.add(Bidirectional(LSTM(lstmunits)))\n",
        "Bilstm.add(Dropout(dropout_rate))\n",
        "Bilstm.add(Dense(1, activation='sigmoid'))\n",
        "Bilstm.summary()"
      ],
      "execution_count": null,
      "outputs": []
    },
    {
      "cell_type": "markdown",
      "metadata": {
        "id": "rxMj19Rfit6-"
      },
      "source": [
        "**Defining Callback**"
      ]
    },
    {
      "cell_type": "code",
      "metadata": {
        "id": "kwMUKm3GFCVV"
      },
      "source": [
        "callbacks = [EarlyStopping(monitor='val_accuracy',min_delta=1e-4,patience=6,verbose=1),\n",
        "             ModelCheckpoint(filepath='Bilstm_weights.h5',monitor='val_accuracy', mode='max', save_best_only=True,save_weights_only=True,verbose=1)]"
      ],
      "execution_count": null,
      "outputs": []
    },
    {
      "cell_type": "markdown",
      "metadata": {
        "id": "HHoy1ovriyHd"
      },
      "source": [
        "**Model compilation and training**"
      ]
    },
    {
      "cell_type": "code",
      "metadata": {
        "id": "82B3CZ2ti2BF"
      },
      "source": [
        "Bilstm.compile(loss='binary_crossentropy', optimizer=Adam(learning_rate=0.01), metrics=['accuracy'])"
      ],
      "execution_count": null,
      "outputs": []
    },
    {
      "cell_type": "code",
      "metadata": {
        "colab": {
          "base_uri": "https://localhost:8080/"
        },
        "id": "dwEnkjYGFCVW",
        "outputId": "b8fc56e3-82bf-4aa2-fe1f-31185434c7f4"
      },
      "source": [
        "historybilstm = Bilstm.fit(Tokens_train, trainL, batch_size=batchSize, validation_data=(Tokens_validation , validL), epochs=nepochs, callbacks=callbacks)"
      ],
      "execution_count": null,
      "outputs": [
        {
          "output_type": "stream",
          "name": "stdout",
          "text": [
            "4/6 [===================>..........] - ETA: 0s - loss: 0.6764 - accuracy: 0.7471 \n",
            "Epoch 1: val_accuracy improved from -inf to 0.69866, saving model to Bilstm_weights.h5\n",
            "6/6 [==============================] - 4s 171ms/step - loss: 0.6501 - accuracy: 0.7505 - val_loss: 0.6177 - val_accuracy: 0.6987\n",
            "Epoch 2/40\n",
            "4/6 [===================>..........] - ETA: 0s - loss: 0.5584 - accuracy: 0.7554\n",
            "Epoch 2: val_accuracy did not improve from 0.69866\n",
            "6/6 [==============================] - 0s 26ms/step - loss: 0.5513 - accuracy: 0.7590 - val_loss: 0.6175 - val_accuracy: 0.6987\n",
            "Epoch 3/40\n",
            "4/6 [===================>..........] - ETA: 0s - loss: 0.4860 - accuracy: 0.7661\n",
            "Epoch 3: val_accuracy did not improve from 0.69866\n",
            "6/6 [==============================] - 0s 25ms/step - loss: 0.4836 - accuracy: 0.7593 - val_loss: 0.6053 - val_accuracy: 0.6987\n",
            "Epoch 4/40\n",
            "5/6 [========================>.....] - ETA: 0s - loss: 0.3411 - accuracy: 0.8219\n",
            "Epoch 4: val_accuracy did not improve from 0.69866\n",
            "6/6 [==============================] - 0s 22ms/step - loss: 0.3307 - accuracy: 0.8350 - val_loss: 0.7758 - val_accuracy: 0.6660\n",
            "Epoch 5/40\n",
            "5/6 [========================>.....] - ETA: 0s - loss: 0.2956 - accuracy: 0.8887\n",
            "Epoch 5: val_accuracy did not improve from 0.69866\n",
            "6/6 [==============================] - 0s 20ms/step - loss: 0.3028 - accuracy: 0.8836 - val_loss: 0.6805 - val_accuracy: 0.6200\n",
            "Epoch 6/40\n",
            "5/6 [========================>.....] - ETA: 0s - loss: 0.2781 - accuracy: 0.8980\n",
            "Epoch 6: val_accuracy did not improve from 0.69866\n",
            "6/6 [==============================] - 0s 20ms/step - loss: 0.2720 - accuracy: 0.8982 - val_loss: 0.7114 - val_accuracy: 0.6852\n",
            "Epoch 7/40\n",
            "5/6 [========================>.....] - ETA: 0s - loss: 0.1959 - accuracy: 0.9227\n",
            "Epoch 7: val_accuracy did not improve from 0.69866\n",
            "6/6 [==============================] - 0s 19ms/step - loss: 0.1949 - accuracy: 0.9236 - val_loss: 0.7922 - val_accuracy: 0.6526\n",
            "Epoch 7: early stopping\n"
          ]
        }
      ]
    },
    {
      "cell_type": "code",
      "metadata": {
        "colab": {
          "base_uri": "https://localhost:8080/"
        },
        "id": "Wfl86M_1FCVX",
        "outputId": "6d2280a0-5578-4191-89a8-695501e349ef"
      },
      "source": [
        "Bilstm.load_weights('Bilstm_weights.h5')\n",
        "Bilstm.save('Bilstm')"
      ],
      "execution_count": null,
      "outputs": [
        {
          "output_type": "stream",
          "name": "stderr",
          "text": [
            "WARNING:absl:Found untraced functions such as lstm_cell_3_layer_call_fn, lstm_cell_3_layer_call_and_return_conditional_losses, lstm_cell_4_layer_call_fn, lstm_cell_4_layer_call_and_return_conditional_losses while saving (showing 4 of 4). These functions will not be directly callable after loading.\n"
          ]
        },
        {
          "output_type": "stream",
          "name": "stdout",
          "text": [
            "INFO:tensorflow:Assets written to: Bilstm/assets\n"
          ]
        },
        {
          "output_type": "stream",
          "name": "stderr",
          "text": [
            "INFO:tensorflow:Assets written to: Bilstm/assets\n",
            "WARNING:absl:<keras.layers.recurrent.LSTMCell object at 0x7f2729b40290> has the same name 'LSTMCell' as a built-in Keras object. Consider renaming <class 'keras.layers.recurrent.LSTMCell'> to avoid naming conflicts when loading with `tf.keras.models.load_model`. If renaming is not possible, pass the object in the `custom_objects` parameter of the load function.\n",
            "WARNING:absl:<keras.layers.recurrent.LSTMCell object at 0x7f27293e3510> has the same name 'LSTMCell' as a built-in Keras object. Consider renaming <class 'keras.layers.recurrent.LSTMCell'> to avoid naming conflicts when loading with `tf.keras.models.load_model`. If renaming is not possible, pass the object in the `custom_objects` parameter of the load function.\n"
          ]
        }
      ]
    },
    {
      "cell_type": "markdown",
      "metadata": {
        "id": "x_Qlh6XqjD47"
      },
      "source": [
        "**Testing**"
      ]
    },
    {
      "cell_type": "code",
      "metadata": {
        "id": "Sorjn3YeFCVa"
      },
      "source": [
        "Bilstmpreds = [round(i[0]) for i in Bilstm.predict(Tokens_test)]"
      ],
      "execution_count": null,
      "outputs": []
    },
    {
      "cell_type": "code",
      "source": [
        "from sklearn import metrics \n",
        "print(metrics.accuracy_score(testL, Bilstmpreds))\n",
        "print(metrics.precision_score(testL, Bilstmpreds))\n",
        "print(metrics.recall_score(testL, Bilstmpreds))\n",
        "print(metrics.f1_score(testL, Bilstmpreds)) "
      ],
      "metadata": {
        "colab": {
          "base_uri": "https://localhost:8080/"
        },
        "id": "_nt8_gyRj6-Y",
        "outputId": "0a8ab77f-08c3-492b-97a8-a5e7fea118fa"
      },
      "execution_count": null,
      "outputs": [
        {
          "output_type": "stream",
          "name": "stdout",
          "text": [
            "0.8571428571428571\n",
            "0.0\n",
            "0.0\n",
            "0.0\n"
          ]
        },
        {
          "output_type": "stream",
          "name": "stderr",
          "text": [
            "/usr/local/lib/python3.7/dist-packages/sklearn/metrics/_classification.py:1318: UndefinedMetricWarning: Precision is ill-defined and being set to 0.0 due to no predicted samples. Use `zero_division` parameter to control this behavior.\n",
            "  _warn_prf(average, modifier, msg_start, len(result))\n"
          ]
        }
      ]
    },
    {
      "cell_type": "markdown",
      "metadata": {
        "id": "Ixpy6TcRHTwG"
      },
      "source": [
        "#3.BiGRU model"
      ]
    },
    {
      "cell_type": "code",
      "metadata": {
        "id": "MkluTNcNHTwH"
      },
      "source": [
        "dropout_rate = 0.5\n",
        "GRUUnits = 128\n",
        "nepochs=40\n",
        "batchSize=512"
      ],
      "execution_count": null,
      "outputs": []
    },
    {
      "cell_type": "markdown",
      "metadata": {
        "id": "fNN_3QC1jqjK"
      },
      "source": [
        "**Defining The model**"
      ]
    },
    {
      "cell_type": "code",
      "metadata": {
        "id": "dKeG0qtxHTwH"
      },
      "source": [
        "Bigru = Sequential()\n",
        "Bigru.add(Embedding(vocabSize, embeddingDim, input_length=maxlength)) \n",
        "Bigru.add(Bidirectional(GRU(GRUUnits)))\n",
        "Bigru.add(Dropout(dropout_rate))\n",
        "Bigru.add(Dense(1, activation='sigmoid'))\n",
        "Bigru.summary()"
      ],
      "execution_count": null,
      "outputs": []
    },
    {
      "cell_type": "markdown",
      "metadata": {
        "id": "6F-fiRu-juMr"
      },
      "source": [
        "**Defining Callback**"
      ]
    },
    {
      "cell_type": "code",
      "metadata": {
        "id": "28l8N-0oHTwI"
      },
      "source": [
        "callbacks = [EarlyStopping(monitor='val_accuracy',min_delta=1e-4,patience=6,verbose=1),\n",
        "             ModelCheckpoint(filepath='Bigru_weights.h5',monitor='val_accuracy', mode='max', save_best_only=True,save_weights_only=True,verbose=1)]"
      ],
      "execution_count": null,
      "outputs": []
    },
    {
      "cell_type": "markdown",
      "metadata": {
        "id": "7y5r5jiQjyKy"
      },
      "source": [
        "**Model compilation and training**"
      ]
    },
    {
      "cell_type": "code",
      "metadata": {
        "id": "VkPZJFuMjzvq"
      },
      "source": [
        "Bigru.compile(loss='binary_crossentropy', optimizer=Adam(learning_rate=0.001), metrics=['accuracy'])"
      ],
      "execution_count": null,
      "outputs": []
    },
    {
      "cell_type": "code",
      "metadata": {
        "id": "pz6EdWzgHTwI"
      },
      "source": [
        "historyBigru = Bigru.fit(Tokens_train, trainL, batch_size=batchSize, validation_data=(Tokens_validation ,validL), epochs=nepochs, callbacks=callbacks)"
      ],
      "execution_count": null,
      "outputs": []
    },
    {
      "cell_type": "code",
      "metadata": {
        "colab": {
          "base_uri": "https://localhost:8080/"
        },
        "id": "xiLbTO1DHTwI",
        "outputId": "070afdfc-6a90-4976-8387-cde7896a8503"
      },
      "source": [
        "Bigru.load_weights('Bigru_weights.h5')\n",
        "Bigru.save('Bigru')"
      ],
      "execution_count": null,
      "outputs": [
        {
          "output_type": "stream",
          "name": "stderr",
          "text": [
            "WARNING:absl:Found untraced functions such as gru_cell_1_layer_call_fn, gru_cell_1_layer_call_and_return_conditional_losses, gru_cell_2_layer_call_fn, gru_cell_2_layer_call_and_return_conditional_losses while saving (showing 4 of 4). These functions will not be directly callable after loading.\n"
          ]
        },
        {
          "output_type": "stream",
          "name": "stdout",
          "text": [
            "INFO:tensorflow:Assets written to: Bigru/assets\n"
          ]
        },
        {
          "output_type": "stream",
          "name": "stderr",
          "text": [
            "INFO:tensorflow:Assets written to: Bigru/assets\n",
            "WARNING:absl:<keras.layers.recurrent.GRUCell object at 0x7f2727bfba90> has the same name 'GRUCell' as a built-in Keras object. Consider renaming <class 'keras.layers.recurrent.GRUCell'> to avoid naming conflicts when loading with `tf.keras.models.load_model`. If renaming is not possible, pass the object in the `custom_objects` parameter of the load function.\n",
            "WARNING:absl:<keras.layers.recurrent.GRUCell object at 0x7f2715929890> has the same name 'GRUCell' as a built-in Keras object. Consider renaming <class 'keras.layers.recurrent.GRUCell'> to avoid naming conflicts when loading with `tf.keras.models.load_model`. If renaming is not possible, pass the object in the `custom_objects` parameter of the load function.\n"
          ]
        }
      ]
    },
    {
      "cell_type": "markdown",
      "metadata": {
        "id": "Bgq4H8m5kWB4"
      },
      "source": [
        "**Testing**"
      ]
    },
    {
      "cell_type": "code",
      "metadata": {
        "id": "3EqzxovcHTwJ"
      },
      "source": [
        "Bigrupreds = [round(i[0]) for i in Bigru.predict(Tokens_test)]"
      ],
      "execution_count": null,
      "outputs": []
    },
    {
      "cell_type": "code",
      "source": [
        "\"\"\"Bigrupreds = Bigru.predict(Tokens_test)\"\"\""
      ],
      "metadata": {
        "id": "rZNuMmIMkboO"
      },
      "execution_count": null,
      "outputs": []
    },
    {
      "cell_type": "code",
      "source": [
        "from sklearn import metrics \n",
        "print(metrics.accuracy_score(testL, Bilstmpreds))\n",
        "print(metrics.precision_score(testL, Bilstmpreds))\n",
        "print(metrics.recall_score(testL, Bilstmpreds))\n",
        "print(metrics.f1_score(testL, Bilstmpreds)) "
      ],
      "metadata": {
        "id": "SFqvmiFakXd9"
      },
      "execution_count": null,
      "outputs": []
    }
  ]
}